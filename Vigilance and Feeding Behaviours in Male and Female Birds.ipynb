{
 "cells": [
  {
   "cell_type": "markdown",
   "metadata": {},
   "source": [
    "# Vigilance and Feeding Behaviours in Male and Female Birds"
   ]
  },
  {
   "cell_type": "code",
   "execution_count": null,
   "metadata": {},
   "outputs": [],
   "source": [
    "mydata<-read.table(\"~/Desktop/temp/chi.csv\", header=T, sep=\",\")\n",
    "head(mydata)"
   ]
  },
  {
   "cell_type": "markdown",
   "metadata": {},
   "source": [
    "This dataset was recorded on a species of bird to test the hypothesis that males are more vigilant than females, and that males feed less than females. Males are recorded as 1, females are 2. If the individual was not feeding or being vigilant during the observation period, then they are given the value of 0. If they were showing either of these behaviours, this is marked by the value of 1. "
   ]
  },
  {
   "cell_type": "code",
   "execution_count": null,
   "metadata": {},
   "outputs": [],
   "source": [
    "attach(mydata)\n",
    "mytable<-table(sex, vigilance)\n",
    "mytable"
   ]
  },
  {
   "cell_type": "markdown",
   "metadata": {},
   "source": [
    "It was determined that a chi-squared test was appropriate for analyses of this data. Due to this, the data for vigilance and sex was transformed into a table. "
   ]
  },
  {
   "cell_type": "code",
   "execution_count": null,
   "metadata": {},
   "outputs": [],
   "source": [
    "results<-chisq.test(mytable, correct=FALSE)\n",
    "results$expected"
   ]
  },
  {
   "cell_type": "markdown",
   "metadata": {},
   "source": [
    "As more than 20% of the chi-squared values in the table are greater than 5, the chi-squared test was found to be invalid for this analysis. "
   ]
  },
  {
   "cell_type": "code",
   "execution_count": null,
   "metadata": {},
   "outputs": [],
   "source": [
    "fisher.test(mytable)"
   ]
  },
  {
   "cell_type": "markdown",
   "metadata": {},
   "source": [
    "Fisher's Exact Test was used instead for this dataset. The results of this suggest that there is an interaction between the variables (p-value=0.02301). "
   ]
  },
  {
   "cell_type": "code",
   "execution_count": null,
   "metadata": {},
   "outputs": [],
   "source": [
    "prop.table(mytable, 1)"
   ]
  },
  {
   "cell_type": "markdown",
   "metadata": {},
   "source": [
    "The code used above shows the percentages for vigilance in both species. 78% of males showed vigilance during observation compared to 20% of females.  "
   ]
  },
  {
   "cell_type": "code",
   "execution_count": null,
   "metadata": {},
   "outputs": [],
   "source": [
    "mytable1<-table(sex,feed)\n",
    "mytable1"
   ]
  },
  {
   "cell_type": "markdown",
   "metadata": {},
   "source": [
    "Next, another table was created containing the data on feeding behaviour and sex. "
   ]
  },
  {
   "cell_type": "code",
   "execution_count": null,
   "metadata": {},
   "outputs": [],
   "source": [
    "fisher.test(mytable1)"
   ]
  },
  {
   "cell_type": "markdown",
   "metadata": {},
   "source": [
    "The results of the Fisher's Exact Test did not find a significant interaction between feeding behaviour and sex (p-value=0.3698). "
   ]
  },
  {
   "cell_type": "code",
   "execution_count": null,
   "metadata": {},
   "outputs": [],
   "source": [
    "mytable2<-table(feed, vigilance)\n",
    "mytable2"
   ]
  },
  {
   "cell_type": "markdown",
   "metadata": {},
   "source": [
    "Finally, a table containing the data for feeding and vigilance was created. "
   ]
  },
  {
   "cell_type": "code",
   "execution_count": null,
   "metadata": {},
   "outputs": [],
   "source": [
    "fisher.test(mytable2)"
   ]
  },
  {
   "cell_type": "markdown",
   "metadata": {},
   "source": [
    "The results of this final analysis did not find a significant interaction between feeding and vigilance behaviour (p-value=0.06978). "
   ]
  },
  {
   "cell_type": "code",
   "execution_count": null,
   "metadata": {},
   "outputs": [],
   "source": [
    "colnames(mytable)=c(\"Head down\",\"Head up\")\n",
    "rownames(mytable)=c(\"Male\",\"Female\")\n",
    "barplot(t(mytable), xlab=\"Sex\", main=\"Vigilance\", ylab=\"Frequency\", beside=TRUE)\n",
    "legend(1,8, colnames(mytable), lty=c(-1,-1,-1), fill=c(\"black\", \"lightgrey\"),bty=1, cex=0.75)"
   ]
  },
  {
   "cell_type": "markdown",
   "metadata": {},
   "source": [
    "The plot above visualises the vigilance of each sex of this species using the values from the table generated. It clearly shows the difference between the sexes, and supports the hypothesis that males are more vigilant than females."
   ]
  },
  {
   "cell_type": "markdown",
   "metadata": {},
   "source": [
    "Overall, this study provided evidence that male birds tend to look out for threats more frequently and for longer than females. This does not seem to affect the feeding behaviour of either sex, as males do not eat less than females. This may be explained by confounding factors such as female-specific behaviours including looking after offspring, which was not recorded in this study. This could explain why females do not eat more than males even though they are not watching for predators. "
   ]
  }
 ],
 "metadata": {
  "kernelspec": {
   "display_name": "R",
   "language": "R",
   "name": "ir"
  }
 },
 "nbformat": 4,
 "nbformat_minor": 2
}
