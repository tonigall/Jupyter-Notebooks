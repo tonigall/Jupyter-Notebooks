{
 "cells": [
  {
   "cell_type": "markdown",
   "metadata": {},
   "source": [
    "# Are Limpet Populations in Pembrokeshire Still Affected by an Oil Spill?"
   ]
  },
  {
   "cell_type": "code",
   "execution_count": null,
   "metadata": {},
   "outputs": [],
   "source": [
    "size<-read.csv(\"~/Desktop/temp/size.csv\", header=T, sep=\",\")\n",
    "head(size)"
   ]
  },
  {
   "cell_type": "code",
   "execution_count": null,
   "metadata": {},
   "outputs": [],
   "source": [
    "abun<-read.csv(\"~/Desktop/temp/abundance.csv\", header=T, sep=\",\")\n",
    "head(abun)"
   ]
  },
  {
   "cell_type": "markdown",
   "metadata": {},
   "source": [
    "This study recorded size and abundance of limpet populations <i>(Patella vulgata)</i> on two rocky shores in Pembrokeshire, South Wales.  This to extend research into the effects of an oil spill in the area which occurred in 1996. West Angle Bay (2) is semi-sheltered and is located nearer to the site of the oil spill and was more seriously affected at the time. This study compared the limpet population at West Angle Bay to the population at Manorbier Bay (1), which was located further away from the oil spill and is a more exposed shore. "
   ]
  },
  {
   "cell_type": "code",
   "execution_count": null,
   "metadata": {},
   "outputs": [],
   "source": [
    "size$Beach<-factor(size$Beach)\n",
    "plot(size$AR~size$Beach, ylab=\"Aspect ratio\", xlab=\"Beach\")"
   ]
  },
  {
   "cell_type": "markdown",
   "metadata": {},
   "source": [
    "Transects were drawn along each beach parallel to the warer, and quadrats were placed at random intervals along these transects 25 times. For each quadrat, every common limpet <i>(Patella vulgata) </i> was counted and the caliper was used to measure the height and width along the longest axis of each limpet. The size of the limpets was estimated using their aspect ratio. This value is calculated by dividing width of the limpet by height. "
   ]
  },
  {
   "cell_type": "code",
   "execution_count": null,
   "metadata": {},
   "outputs": [],
   "source": [
    "model1<-lm(AR~Beach, data=size)\n",
    "summary(model1)"
   ]
  },
  {
   "cell_type": "markdown",
   "metadata": {},
   "source": [
    "General linear models found that aspect ratio (AR) was significantly greater on West Angle Bay than on Manorbier Bay. "
   ]
  },
  {
   "cell_type": "code",
   "execution_count": null,
   "metadata": {},
   "outputs": [],
   "source": [
    "model2<-lm(Width~Beach, data=size)\n",
    "summary(model2)"
   ]
  },
  {
   "cell_type": "markdown",
   "metadata": {},
   "source": [
    "Results found that width was also significantly greater at West Angle Bay than at Manorbier. "
   ]
  },
  {
   "cell_type": "code",
   "execution_count": null,
   "metadata": {},
   "outputs": [],
   "source": [
    "model3<-lm(Height~Beach, data=size)\n",
    "summary(model3)"
   ]
  },
  {
   "cell_type": "markdown",
   "metadata": {},
   "source": [
    "There was not a significant difference in height between the two limpet populations. "
   ]
  },
  {
   "cell_type": "code",
   "execution_count": null,
   "metadata": {},
   "outputs": [],
   "source": [
    "abun$Beach<-factor(abun$Beach)\n",
    "plot(abun$Abundance~abun$Beach, ylab=\"Abundance\", xlab=\"Beach\")"
   ]
  },
  {
   "cell_type": "markdown",
   "metadata": {},
   "source": [
    "The abundances of limpet populations between the two populations were also very different. "
   ]
  },
  {
   "cell_type": "code",
   "execution_count": null,
   "metadata": {},
   "outputs": [],
   "source": [
    "model4<-lm(abun$Abundance~abun$Beach)\n",
    "summary(model4)"
   ]
  },
  {
   "cell_type": "markdown",
   "metadata": {},
   "source": [
    "General linear models revealed that there was a greater abundance of limpets at West Angle Bay than at Manorbier. "
   ]
  },
  {
   "cell_type": "markdown",
   "metadata": {},
   "source": [
    "The results showed that the population of limpets at West Angle Bay has a greater fitness than that at Manorbier, due to a larger population and limpet size. These results were significant enough to reject the hypothesis that the limpet population at West Angle Bay is still suffering the effects of the 1996 oil spill. This could be due to the more sheltered conditions at West Angle Bay which have allowed for the limpet population to flourish, or that the algae bloom which occurred as a result of the sudden drop in limpets after the oil spill resulted in a rapid increase in size of the remaining limpets due to reduced competition from the bottleneck effect of the oil spill. "
   ]
  }
 ],
 "metadata": {
  "kernelspec": {
   "display_name": "R",
   "language": "R",
   "name": "ir"
  }
 },
 "nbformat": 4,
 "nbformat_minor": 2
}
