{
 "cells": [
  {
   "cell_type": "markdown",
   "metadata": {},
   "source": [
    "# The Effects of Plouging Regime on Breeding Pairs of Birds"
   ]
  },
  {
   "cell_type": "code",
   "execution_count": null,
   "metadata": {},
   "outputs": [],
   "source": [
    "popchange<-read.table(\"~/Desktop/temp/Population change exercise.csv\", header =T, sep=\",\")\n",
    "popchange"
   ]
  },
  {
   "cell_type": "markdown",
   "metadata": {},
   "source": [
    "We have data here which was collected from 1975 to 2006 on the number of breeding pairs (pop) of three species of birds. The number of breeding pairs are examined in respect to the plouging regime in the area. The species examined are lark (1), finch (2) and pigeon (3). Ploughing regime starts in either autumn at the start of the dry season (1) or in spring at the start of the wet reason (2). "
   ]
  },
  {
   "cell_type": "code",
   "execution_count": null,
   "metadata": {},
   "outputs": [],
   "source": [
    "lark<-subset(popchange, species==1)\n",
    "lark\n",
    "finch<-subset(popchange, species==2)\n",
    "finch\n",
    "pigeon<-subset(popchange, species==3)\n",
    "pigeon"
   ]
  },
  {
   "cell_type": "markdown",
   "metadata": {},
   "source": [
    "The data was split into subsets depending on species of bird. "
   ]
  },
  {
   "cell_type": "code",
   "execution_count": null,
   "metadata": {},
   "outputs": [],
   "source": [
    "plot(pop~year, data=popchange, pch=species, ylab=\"Number of Breeding Pairs\", xlab=\"Year\", main=\"Trends in Number of Breeding Pairs\")\n",
    "legend(\"top\", legend=c(\"Lark\", \"Finch\", \"Pigeon\"), pch=1:2:3)\n",
    "points(lark$pop~lark$year, pch=1)\n",
    "points(finch$pop~finch$year, pch=2)\n",
    "points(pigeon$pop~pigeon$year, pch=3)\n",
    "abline(lm(pop~year, data=lark), lty=1)\n",
    "abline(lm(pop~year, data=finch), lty=2)\n",
    "abline(lm(pop~year, data=pigeon), lty=3)"
   ]
  },
  {
   "cell_type": "markdown",
   "metadata": {},
   "source": [
    "A plot of the number of breeding pairs over the years for each species was created, using different regression lines depending on the species. "
   ]
  },
  {
   "cell_type": "code",
   "execution_count": null,
   "metadata": {},
   "outputs": [],
   "source": [
    "popchange$species<-factor(popchange$species)"
   ]
  },
  {
   "cell_type": "markdown",
   "metadata": {},
   "source": [
    "To simplify statistical analyses, it was specified that the species of bird is a factor."
   ]
  },
  {
   "cell_type": "code",
   "execution_count": null,
   "metadata": {},
   "outputs": [],
   "source": [
    "model<-lm(pop~year + species + year*species, data=popchange)\n",
    "summary(model)"
   ]
  },
  {
   "cell_type": "markdown",
   "metadata": {},
   "source": [
    "A general linear model was used to determine if there is a significant change in number of breeding pairs between years and if this relationship is differs between species. It was found that breeding pairs overall decreased significantly over the years. This summary table also confirms that the species of birds all experienced significantly different trends in number of breeding pairs over the course of this experiment. "
   ]
  },
  {
   "cell_type": "code",
   "execution_count": null,
   "metadata": {},
   "outputs": [],
   "source": [
    "model1<-lm(pop~year, data=lark)\n",
    "summary(model1)"
   ]
  },
  {
   "cell_type": "markdown",
   "metadata": {},
   "source": [
    "This model looked specifically at the trends in lark breeding pairs and found that they significantly decreased throughout the experiment. "
   ]
  },
  {
   "cell_type": "code",
   "execution_count": null,
   "metadata": {},
   "outputs": [],
   "source": [
    "model2<-lm(pop~year, data=finch)\n",
    "summary(model2)"
   ]
  },
  {
   "cell_type": "markdown",
   "metadata": {},
   "source": [
    "The results of the finch data also showed that their breeding pairs decreased throughout the experiment."
   ]
  },
  {
   "cell_type": "code",
   "execution_count": null,
   "metadata": {},
   "outputs": [],
   "source": [
    "model3<-lm(pop~year, data=pigeon)\n",
    "summary(model3)"
   ]
  },
  {
   "cell_type": "markdown",
   "metadata": {},
   "source": [
    "The pigeon data showed no significant relationship between number of breeding pairs and years. This was the only species that did experience a significant increase or decrease in breeding pairs throughout the experiment. "
   ]
  },
  {
   "cell_type": "code",
   "execution_count": null,
   "metadata": {},
   "outputs": [],
   "source": [
    "autumn<-subset(popchange, regime==1)\n",
    "spring<-subset(popchange, regime==2)"
   ]
  },
  {
   "cell_type": "markdown",
   "metadata": {},
   "source": [
    "The regime variable was also split into subsets to determine the effects of this on number of breeding pairs."
   ]
  },
  {
   "cell_type": "code",
   "execution_count": null,
   "metadata": {},
   "outputs": [],
   "source": [
    "plot(pop~year, data=popchange, pch=regime, ylab=\"Number of Breeding Pairs\", xlab=\"Year\", main=\"Effects of Ploughing Regime on Number of Breeding Pairs\")\n",
    "legend(\"top\", legend=c(\"Autumn\", \"Spring\"), pch=1:2)\n",
    "points(autumn$pop~autumn$year, pch=1)\n",
    "points(spring$pop~spring$year, pch=2)"
   ]
  },
  {
   "cell_type": "markdown",
   "metadata": {},
   "source": [
    "The plot of data split into regime does not seem to show a significant difference in breeding pairs depending on regime. "
   ]
  },
  {
   "cell_type": "code",
   "execution_count": null,
   "metadata": {},
   "outputs": [],
   "source": [
    "tslag <- \n",
    "function(x, d=1)\n",
    "{\n",
    "  x <- as.vector(x)\n",
    "  n <- length(x)\n",
    "  c(rep(NA,d),x)[1:n]\n",
    "}\n",
    "lark$lastpop <- tslag(lark$pop)\n",
    "lark$popdiff <-  lark$pop -lark$lastpop\n",
    "lark\n",
    "lark$regime1 <- factor(lark$regime)"
   ]
  },
  {
   "cell_type": "markdown",
   "metadata": {},
   "source": [
    "The function tslag was used to determine the value of variables one step back from the variable being examined (d value = 1). This allows for comparison between the number of breeding pairs in the current year compared to the year before. \n",
    "The dataset popdiff was created to calculate this exact difference in values. Regime was also specified as a factor by creating a new variable called regime1. "
   ]
  },
  {
   "cell_type": "code",
   "execution_count": null,
   "metadata": {},
   "outputs": [],
   "source": [
    "mod2 <- lm(lark$popdiff ~ lark$regime1)\n",
    "summary(mod2)\n"
   ]
  },
  {
   "cell_type": "markdown",
   "metadata": {},
   "source": [
    "This model showed a significant difference between regimes on the difference in breeding pair numbers of larks between years. "
   ]
  },
  {
   "cell_type": "code",
   "execution_count": null,
   "metadata": {},
   "outputs": [],
   "source": [
    "finch$lastpop <- tslag(finch$pop)\n",
    "finch$popdiff <-  finch$pop -finch$lastpop\n",
    "finch\n",
    "finch$regime1 <- factor(finch$regime)\n",
    "mod3 <- lm(finch$popdiff ~ finch$regime1)\n",
    "summary(mod3)"
   ]
  },
  {
   "cell_type": "markdown",
   "metadata": {},
   "source": [
    "The results of the general linear model for finches showed no significant difference in the number of breeding pairs between years. "
   ]
  },
  {
   "cell_type": "code",
   "execution_count": null,
   "metadata": {},
   "outputs": [],
   "source": [
    "pigeon$lastpop <- tslag(pigeon$pop)\n",
    "pigeon$popdiff <-  pigeon$pop -pigeon$lastpop\n",
    "pigeon\n",
    "pigeon$regime1 <- factor(pigeon$regime)\n",
    "mod4 <- lm(pigeon$popdiff ~ pigeon$regime1)\n",
    "summary(mod4)"
   ]
  },
  {
   "cell_type": "markdown",
   "metadata": {},
   "source": [
    "The results for pigeons also showed that ploughing regime did not significantly affect the change in number of breeding pairs between the years. "
   ]
  },
  {
   "cell_type": "code",
   "execution_count": null,
   "metadata": {},
   "outputs": [],
   "source": [
    "par(mfrow=c(1,3))\n",
    "boxplot(lark$popdiff ~ lark$regime1, ylab=\"Change in Number of Breeding Pairs\", xlab=\"Ploughing Regime\", main=\"Larks\")\n",
    "boxplot(finch$popdiff ~ finch$regime1, ylab=\"Change in Number of Breeding Pairs\", xlab=\"Ploughing Regime\", main=\"Finches\")\n",
    "boxplot(pigeon$popdiff ~ pigeon$regime1, ylab=\"Change in Number of Breeding Pairs\", xlab=\"Ploughing Regime\", main=\"Pigeons\")"
   ]
  },
  {
   "cell_type": "markdown",
   "metadata": {},
   "source": [
    "The boxplots of difference in number of breeding pairs between years depending on regime for each of the three species show the results of the models. "
   ]
  },
  {
   "cell_type": "markdown",
   "metadata": {},
   "source": [
    "The overall results of this dataset were that the number of breeding pairs for larks and finches decreased over this experimental study. The comparision of breeding pairs and ploughing regime found that only larks were significantly affected by the timing of ploughing. The number of lark breeding pairs increased when ploughing occurred in spring. \n",
    "This may be due to differences in the breeding behaviours between these species. "
   ]
  },
  {
   "cell_type": "code",
   "execution_count": null,
   "metadata": {},
   "outputs": [],
   "source": []
  }
 ],
 "metadata": {
  "kernelspec": {
   "display_name": "R",
   "language": "R",
   "name": "ir"
  }
 },
 "nbformat": 4,
 "nbformat_minor": 2
}
